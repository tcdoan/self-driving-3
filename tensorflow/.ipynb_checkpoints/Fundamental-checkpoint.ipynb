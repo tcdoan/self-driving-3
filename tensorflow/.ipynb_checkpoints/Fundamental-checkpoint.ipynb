{
 "cells": [
  {
   "cell_type": "markdown",
   "metadata": {},
   "source": [
    "# Tensor\n",
    "\n",
    "In TensorFlow, data isn’t stored as floats, or strings. These values are encapsulated in an object called a tensor. E.g. `hello_constant = tf.constant('Hello World!')`, hello_constant is a 0-dimensional string tensor, but tensors come in a variety of sizes as shown below:\n",
    "\n",
    "```python\n",
    "# A is a 0-dimensional int32 tensor\n",
    "A = tf.constant(1234) \n",
    "# B is a 1-dimensional int32 tensor\n",
    "B = tf.constant([123,456,789]) \n",
    "# C is a 2-dimensional int32 tensor\n",
    "C = tf.constant([ [123,456,789], [222,333,444] ])\n",
    "```\n",
    "\n",
    "`tf.constant()` is one of many TensorFlow operations you will use in this lesson. The tensor returned by `tf.constant()` is called a constant tensor, because the value of the tensor never changes."
   ]
  },
  {
   "cell_type": "markdown",
   "metadata": {},
   "source": [
    "# Session\n",
    "\n",
    "TensorFlow’s api is built around the idea of a computational graph.\n",
    "\n",
    "A \"TensorFlow Session\" is an environment for running a graph. The session is in charge of allocating the operations to GPU(s) and/or CPU(s), including remote machines. Let’s see how you use it.\n"
   ]
  },
  {
   "cell_type": "code",
   "execution_count": null,
   "metadata": {},
   "outputs": [],
   "source": [
    "import tensorflow as tf\n",
    "\n",
    "# Create TensorFlow object called hello_constant\n",
    "hello_constant = tf.constant('Hello World!')\n",
    "\n",
    "with tf.Session() as sess:\n",
    "    output = sess.run(hello_constant)\n",
    "    print(output)\n"
   ]
  },
  {
   "cell_type": "markdown",
   "metadata": {},
   "source": [
    "The code created the tensor, `hello_constant`, then evaluate the tensor in a session.\n",
    "\n",
    "- The code creates a session instance, `sess`, using `tf.Session()`.\n",
    "- The `sess.run()` function evaluates the tensor and returns the results.\n"
   ]
  },
  {
   "cell_type": "markdown",
   "metadata": {},
   "source": [
    "# Input\n",
    "\n",
    "In the last section, you passed a tensor into a session and it returned the result. What if you want to use a non-constant? This is where `tf.placeholder()` and `feed_dict` come into place. In this section, you'll go over the basics of feeding data into TensorFlow.\n",
    "\n",
    "\n",
    "### tf.placeholder()\n",
    "\n",
    "Sadly you can’t just set `x` to your dataset and put it in TensorFlow, because over time you'll want your TensorFlow model to take in different datasets with different parameters. You need `tf.placeholder()`!\n",
    "\n",
    "**tf.placeholder()** returns a tensor that gets its value from data passed to the **tf.session.run()** function, allowing you to set the input right before the session runs.\n",
    "\n",
    "```python\n",
    "x = tf.placeholder(tf.string)\n",
    "\n",
    "with tf.Session() as sess:\n",
    "    output = sess.run(x, feed_dict={x: 'Hello World'})\n",
    "    \n",
    "```"
   ]
  },
  {
   "cell_type": "code",
   "execution_count": null,
   "metadata": {},
   "outputs": [],
   "source": [
    "import tensorflow as tf\n",
    "x = tf.placeholder(tf.string)\n",
    "y = tf.placeholder(tf.int32)\n",
    "z = tf.placeholder(tf.float32)\n",
    "\n",
    "with tf.Session() as sess:\n",
    "    output1, output2 = sess.run([x, y], feed_dict={x: 'Hello World', y: 123, z: 45.67})\n",
    "    print(output1)\n",
    "    print(output2)"
   ]
  },
  {
   "cell_type": "markdown",
   "metadata": {},
   "source": [
    "# TensorFlow Math\n",
    "\n",
    "```python \n",
    "x = tf.add(5, 2)\n",
    "x = tf.subtract(10, 4) \n",
    "y = tf.multiply(2, 5)  \n",
    "```\n",
    "The `tf.add(), tf.subtract(), tf.multiply()` functions take in two numbers, two tensors, or one of each, and returns their sum or product as a tensor.\n",
    "\n",
    "\n",
    "### Converting types\n",
    "\n",
    "It may be necessary to convert between types to make certain operators work together. For example, if you tried the following, it would fail with an exception:\n",
    "\n",
    "```python\n",
    "\n",
    "# Fails with ValueError: Tensor conversion requested dtype float32 for Tensor with dtype int32:\n",
    "tf.subtract(tf.constant(2.0),tf.constant(1)) \n",
    "\n",
    "# To fix this error we can either make sure data is all of the same type\n",
    "# or cast a value to another type. \n",
    "tf.subtract(tf.cast(tf.constant(2.0), tf.int32), tf.constant(1))\n",
    "\n",
    "```\n",
    "\n"
   ]
  },
  {
   "cell_type": "code",
   "execution_count": 10,
   "metadata": {},
   "outputs": [
    {
     "name": "stdout",
     "output_type": "stream",
     "text": [
      "4\n"
     ]
    }
   ],
   "source": [
    "x = tf.placeholder(tf.int32)\n",
    "y = tf.placeholder(tf.int32)\n",
    "z = tf.subtract(tf.cast(tf.divide(x, y), tf.int32), tf.constant(1))\n",
    "\n",
    "with tf.Session() as sess:\n",
    "    output = sess.run(z, feed_dict={x: 10, y: 2})\n",
    "    print(output)"
   ]
  },
  {
   "cell_type": "markdown",
   "metadata": {},
   "source": [
    "# Find x that minimize $x^2 -10x + 25 $ "
   ]
  },
  {
   "cell_type": "code",
   "execution_count": 12,
   "metadata": {},
   "outputs": [
    {
     "name": "stdout",
     "output_type": "stream",
     "text": [
      "4.9999886\n"
     ]
    }
   ],
   "source": [
    "import tensorflow as tf\n",
    "\n",
    "x = tf.Variable(1.0, dtype=tf.float32)\n",
    "\n",
    "# y = tf.add(tf.add(x**2, tf.multiply(-10.0, x)), 25.0)\n",
    "y = x**2 -10.0*x + 25.0\n",
    "train = tf.train.GradientDescentOptimizer(learning_rate=0.01).minimize(y)\n",
    "\n",
    "with tf.Session() as sess:\n",
    "    sess.run(tf.global_variables_initializer())\n",
    "    for epoch in range(1000):\n",
    "        sess.run(train)\n",
    "        \n",
    "    x_val = sess.run(x)\n",
    "    print(x_val)"
   ]
  },
  {
   "cell_type": "markdown",
   "metadata": {},
   "source": [
    "# Find x that minimize  $ a1x^2 +a2x+a3 $"
   ]
  },
  {
   "cell_type": "code",
   "execution_count": 15,
   "metadata": {},
   "outputs": [
    {
     "name": "stdout",
     "output_type": "stream",
     "text": [
      "9.999977\n"
     ]
    }
   ],
   "source": [
    "import tensorflow as tf\n",
    "\n",
    "a = tf.placeholder(tf.float32, [3])\n",
    "x = tf.Variable(1.0, dtype=tf.float32)\n",
    "\n",
    "y = a[0]*x**2 + a[1]*x + a[2]\n",
    "train = tf.train.GradientDescentOptimizer(learning_rate=0.01).minimize(y)\n",
    "\n",
    "with tf.Session() as sess:\n",
    "    sess.run(tf.global_variables_initializer())\n",
    "    for epoch in range(1000):\n",
    "        # sess.run(train, feed_dict = {a: [1., -10., 25.]})\n",
    "        sess.run(train, feed_dict = {a: [1., -20., 100.]})\n",
    "        \n",
    "    x_val = sess.run(x)\n",
    "    print(x_val)"
   ]
  },
  {
   "cell_type": "markdown",
   "metadata": {},
   "source": [
    "# Find the relationship between x and y\n",
    "\n",
    "| Variable    | Value | \n",
    "| :---        |  ---: |\n",
    "| x           | 1, 0, 1, 2, 3, 4   | \n",
    "| y           | -3, -1, 1, 3, 5, 7 |\n",
    "\n",
    "\n",
    "**What is the value y(10)**"
   ]
  },
  {
   "cell_type": "code",
   "execution_count": 32,
   "metadata": {},
   "outputs": [
    {
     "name": "stdout",
     "output_type": "stream",
     "text": [
      "[[20.846085]]\n"
     ]
    }
   ],
   "source": [
    "import tensorflow as tf\n",
    "import numpy as  np\n",
    "import keras\n",
    "\n",
    "model = keras.Sequential( [keras.layers.Dense(units=1, input_shape=[1])] )\n",
    "model.compile(optimizer='sgd', loss='mean_squared_error')\n",
    "\n",
    "xs = np.array([1.0,   0.0, 1.0, 2.0, 3.0, 4.0], dtype=float)\n",
    "ys = np.array([-3.0, -1.0, 1.0, 3.0, 5.0, 7.0], dtype=float)\n",
    "\n",
    "x = np.array([10.0])\n",
    "model.fit(xs, ys, epochs=5000, verbose=0)\n",
    "print(model.predict(x))"
   ]
  }
 ],
 "metadata": {
  "kernelspec": {
   "display_name": "Python [default]",
   "language": "python",
   "name": "python3"
  },
  "language_info": {
   "codemirror_mode": {
    "name": "ipython",
    "version": 3
   },
   "file_extension": ".py",
   "mimetype": "text/x-python",
   "name": "python",
   "nbconvert_exporter": "python",
   "pygments_lexer": "ipython3",
   "version": "3.5.5"
  }
 },
 "nbformat": 4,
 "nbformat_minor": 2
}
