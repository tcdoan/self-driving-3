{
 "cells": [
  {
   "cell_type": "markdown",
   "metadata": {},
   "source": [
    "# Multilayer Neural Networks\n",
    "\n",
    "Adding a hidden layer to a network allows it to model more complex functions. \n",
    "- Also, using a non-linear activation function on the hidden layer lets it model non-linear functions\n",
    "\n",
    "!['two-layer-network'](two-layer-network.png)\n",
    "\n",
    "- The first layer effectively consists of the set of weights and biases applied to X and passed through ReLUs. \n",
    "  - The output of this layer is fed to the next one, but is not observable outside the network, hence it is known as a hidden layer.\n",
    "  \n",
    "- The second layer consists of the weights and biases applied to these intermediate outputs, followed by the softmax function to generate probabilities."
   ]
  },
  {
   "cell_type": "markdown",
   "metadata": {},
   "source": [
    "# Rectified linear unit (ReLU)\n",
    "\n",
    "ReLU is type of activation function that is defined as `f(x) = max(0, x)`. \n",
    "- The function returns 0 if x is negative, otherwise it returns `x`. \n",
    "\n",
    "TensorFlow provides the ReLU function as `tf.nn.relu()`, as shown below.\n",
    "\n",
    "```python\n",
    "\n",
    "hidden_layer = tf.add(tf.matmul(features, hidden_weights), hidden_biases)\n",
    "hidden_layer = tf.nn.relu(hidden_layer)\n",
    "\n",
    "output = tf.add(tf.matmul(hidden_layer, output_weights), output_biases)\n",
    "```\n",
    "\n",
    "- The above code applies the tf.nn.relu() function to the hidden_layer, effectively turning off any negative weights and acting like an on/off switch. \n",
    "- Adding additional layers, like the output layer, after an activation function turns the model into a nonlinear function. This nonlinearity allows the network to solve more complex problems."
   ]
  },
  {
   "cell_type": "code",
   "execution_count": 5,
   "metadata": {},
   "outputs": [
    {
     "name": "stdout",
     "output_type": "stream",
     "text": [
      "[[ 5.11      8.440001]\n",
      " [ 0.        0.      ]\n",
      " [24.010002 38.239998]]\n"
     ]
    }
   ],
   "source": [
    "import tensorflow as tf\n",
    "output = None\n",
    "\n",
    "hidden_layer_weights = [\n",
    "    [0.1, 0.2, 0.4],\n",
    "    [0.4, 0.6, 0.6],\n",
    "    [0.5, 0.9, 0.1],\n",
    "    [0.8, 0.2, 0.8]]\n",
    "out_weights = [\n",
    "    [0.1, 0.6],\n",
    "    [0.2, 0.1],\n",
    "    [0.7, 0.9]]\n",
    "\n",
    "# weights, and bias\n",
    "W = [\n",
    "    tf.Variable(hidden_layer_weights),\n",
    "    tf.Variable(out_weights)]\n",
    "b = [\n",
    "    tf.Variable(tf.zeros(3)),\n",
    "    tf.Variable(tf.zeros(2))]\n",
    "\n",
    "# features\n",
    "X = tf.Variable([[1.0, 2.0, 3.0, 4.0], \n",
    "                 [-1.0, -2.0, -3.0, -4.0], \n",
    "                 [11.0, 12.0, 13.0, 14.0]])\n",
    "\n",
    "Z1 = tf.add(tf.matmul(X, W[0]), b[0])\n",
    "H1 = tf.nn.relu(Z1)\n",
    "output = tf.add(tf.matmul(H1, W[1]), b[1])\n",
    "\n",
    "init = tf.global_variables_initializer()\n",
    "with tf.Session() as sess:\n",
    "    sess.run(init)\n",
    "    output = sess.run(output)\n",
    "    print(output)"
   ]
  }
 ],
 "metadata": {
  "kernelspec": {
   "display_name": "Python [default]",
   "language": "python",
   "name": "python3"
  },
  "language_info": {
   "codemirror_mode": {
    "name": "ipython",
    "version": 3
   },
   "file_extension": ".py",
   "mimetype": "text/x-python",
   "name": "python",
   "nbconvert_exporter": "python",
   "pygments_lexer": "ipython3",
   "version": "3.5.5"
  }
 },
 "nbformat": 4,
 "nbformat_minor": 2
}
