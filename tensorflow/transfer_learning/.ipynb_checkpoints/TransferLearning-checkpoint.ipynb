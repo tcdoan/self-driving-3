{
 "cells": [
  {
   "cell_type": "markdown",
   "metadata": {},
   "source": [
    "# Transfer Learning\n",
    "\n",
    "###  Four main cases:\n",
    ">1. new data set is small, new data is similar to original training data\n",
    ">2. new data set is small, new data is different from original training data\n",
    ">3. new data set is large, new data is similar to original training data\n",
    ">4. new data set is large, new data is different from original training data\n",
    "\n",
    "### Demonstration Network\n",
    "- Let start with a generic pre-trained CNN and explain how to adjust the network for each case. The example CNN contains three convolutional layers and three fully connected layers:\n",
    "\n",
    "!['Demonstration Network'](t1.png)\n",
    "\n",
    "- the first layer will detect edges in the image\n",
    "- the second layer will detect shapes\n",
    "- the third convolutional layer detects higher level features\n",
    "\n",
    "Each transfer learning case will use the pre-trained CNN in a different way.\n",
    "\n"
   ]
  },
  {
   "cell_type": "markdown",
   "metadata": {},
   "source": [
    "#### Case 1: new data set is small and similar to the original training data\n",
    "\n",
    "If the new data set is small and similar to the original training data:\n",
    "- slice off the **end of the neural network**\n",
    "- add a new fully connected layer that matches the number of classes in the new data set\n",
    "    - randomize the weights of the new fully connected layer; \n",
    "    - freeze all the weights from the pre-trained network\n",
    "- train the network to update the weights of the new fully connected layer\n",
    "\n",
    "\n",
    "1. To avoid overfitting on the small data set, the weights of the original network will be held constant rather than re-training the weights.\n",
    "\n",
    "2. Since the data sets are similar, images from each data set will have similar higher level features. Therefore most or all of the pre-trained neural network layers already contain relevant information about the new data set and should be kept.\n",
    "\n",
    "!['NN with small new data set and similar-to-the-original-training data'](t2.png)\n"
   ]
  },
  {
   "cell_type": "markdown",
   "metadata": {},
   "source": [
    "#### Case 2: New data set is small and **different** to the original data\n",
    "\n",
    "- slice off **most of the pre-trained layers near the beginning** of the network\n",
    "- add to the remaining pre-trained layers a new fully connected layer that matches the number of classes in the new data set\n",
    "- randomize the weights of the new fully connected layer; freeze all the weights from the pre-trained network\n",
    "- train the network to update the weights of the new fully connected layer\n",
    "\n",
    "Because the data set is small, overfitting is still a concern. To combat overfitting, the weights of the original neural network will be held constant.\n",
    "\n",
    "The original training set and the new data set do not share higher level features. \n",
    "- In this case, the new network will only use the layers containing lower level features.\n",
    "\n",
    "!['NN with new data set is small and different from the original training data'](t3.png)\n"
   ]
  },
  {
   "cell_type": "markdown",
   "metadata": {},
   "source": [
    "#### Case 3: New data set is large and similar to the original data\n",
    "\n",
    "- remove the last fully connected layer and replace with a layer matching the number of classes in the new data set\n",
    "- randomly initialize the weights in the new fully connected layer\n",
    "- initialize the rest of the weights using the pre-trained weights\n",
    "- re-train the entire neural network\n",
    "\n",
    "Overfitting is not as much of a concern when training on a large data set; therefore, wec can re-train all of the weights.\n",
    "\n",
    "Because the original training set and the new data set share higher level features, the entire neural network is used as well.\n",
    "\n",
    "!['NN with new data set is large and similar to the original training data'](t4.png)"
   ]
  },
  {
   "cell_type": "markdown",
   "metadata": {},
   "source": [
    "#### Case 4: New data set is large and different from the original data\n",
    "\n",
    "- remove the last fully connected layer and replace with a layer matching the number of classes in the new data set\n",
    "- retrain the network from scratch with randomly initialized weights\n",
    "- alternatively, just use the same strategy as the \"large and similar\" data case\n",
    "\n",
    "Even though the data set is different from the training data, initializing the weights from the pre-trained network might make training faster. So this case is exactly the same as the case with a large, similar data set.\n",
    "\n",
    "If using the pre-trained network as a starting point does not produce a successful model, another option is to randomly initialize the network weights and train the network from scratch."
   ]
  }
 ],
 "metadata": {
  "kernelspec": {
   "display_name": "Python [conda env:car2]",
   "language": "python",
   "name": "conda-env-car2-py"
  },
  "language_info": {
   "codemirror_mode": {
    "name": "ipython",
    "version": 3
   },
   "file_extension": ".py",
   "mimetype": "text/x-python",
   "name": "python",
   "nbconvert_exporter": "python",
   "pygments_lexer": "ipython3",
   "version": "3.5.5"
  }
 },
 "nbformat": 4,
 "nbformat_minor": 4
}
