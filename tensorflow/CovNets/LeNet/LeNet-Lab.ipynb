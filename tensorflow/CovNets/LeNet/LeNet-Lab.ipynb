{
 "cells": [
  {
   "cell_type": "markdown",
   "metadata": {},
   "source": [
    "# LeNet Lab\n",
    "\n",
    "![LeNet Architecture](lenet.png)\n",
    "\n",
    "Source: Yan LeCun http://yann.lecun.com/exdb/lenet/"
   ]
  },
  {
   "cell_type": "markdown",
   "metadata": {},
   "source": [
    "## Load Data\n",
    "Load the MNIST data, which comes pre-loaded with TensorFlow."
   ]
  },
  {
   "cell_type": "code",
   "execution_count": 3,
   "metadata": {},
   "outputs": [
    {
     "name": "stdout",
     "output_type": "stream",
     "text": [
      "Extracting MNIST_data/train-images-idx3-ubyte.gz\n",
      "Extracting MNIST_data/train-labels-idx1-ubyte.gz\n",
      "Extracting MNIST_data/t10k-images-idx3-ubyte.gz\n",
      "Extracting MNIST_data/t10k-labels-idx1-ubyte.gz\n",
      "\n",
      "Training Set: (55000, 28, 28, 1)\n",
      "Validation Set: (5000, 28, 28, 1)\n",
      "Test Set:       (10000, 28, 28, 1)\n"
     ]
    }
   ],
   "source": [
    "from tensorflow.examples.tutorials.mnist import input_data\n",
    "mnist = input_data.read_data_sets(\"MNIST_data/\", reshape=False)\n",
    "\n",
    "X_train_raw, y_train           = mnist.train.images, mnist.train.labels\n",
    "X_validation_raw, y_validation = mnist.validation.images, mnist.validation.labels\n",
    "X_test_raw, y_test             = mnist.test.images, mnist.test.labels\n",
    "\n",
    "print()\n",
    "print(\"Training Set: {}\".format(X_train_raw.shape))\n",
    "print(\"Validation Set: {}\".format(X_validation_raw.shape))\n",
    "print(\"Test Set:       {}\".format(X_test_raw.shape))"
   ]
  },
  {
   "cell_type": "markdown",
   "metadata": {},
   "source": [
    "## Visualize Data\n",
    "\n",
    "View a sample from the dataset.\n",
    "\n",
    "- The MNIST data that TensorFlow pre-loads comes as 28x28x1 images.\n",
    "- However, the LeNet architecture only accepts 32x32xC images, where C is the number of color channels.\n",
    "\n",
    "In order to reformat the MNIST data into a shape that LeNet will accept, we pad the data with two rows of zeros on the top and bottom, and two columns of zeros on the left and right (28+2+2 = 32)."
   ]
  },
  {
   "cell_type": "code",
   "execution_count": 4,
   "metadata": {},
   "outputs": [
    {
     "name": "stdout",
     "output_type": "stream",
     "text": [
      "Updated Image Shape: (55000, 32, 32, 1)\n"
     ]
    },
    {
     "data": {
      "image/png": "[encoded data removed]",
      "text/plain": [
       "<matplotlib.figure.Figure at 0x7fadaed41198>"
      ]
     },
     "metadata": {
      "needs_background": "light"
     },
     "output_type": "display_data"
    }
   ],
   "source": [
    "from sklearn.utils import shuffle\n",
    "import numpy as np\n",
    "import matplotlib.pyplot as plt\n",
    "%matplotlib inline\n",
    "\n",
    "X_train      = np.pad(X_train_raw,      ((0,0),(2,2),(2,2),(0,0)), 'constant')\n",
    "X_validation = np.pad(X_validation_raw, ((0,0),(2,2),(2,2),(0,0)), 'constant')\n",
    "X_test       = np.pad(X_test_raw,       ((0,0),(2,2),(2,2),(0,0)), 'constant')\n",
    "\n",
    "print(\"Updated Image Shape: {}\".format(X_train.shape))\n",
    "\n",
    "fig = plt.figure(figsize=(16,5))\n",
    "\n",
    "X_train, y_train = shuffle(X_train, y_train)\n",
    "for i in range(20):\n",
    "    image = X_train[i].squeeze()\n",
    "    fig.add_subplot(2,10, i+1)\n",
    "    plt.imshow(image, cmap=\"gray\")"
   ]
  },
  {
   "cell_type": "markdown",
   "metadata": {},
   "source": [
    "##  Implement LeNet-5\n",
    "Implement the [LeNet-5](http://yann.lecun.com/exdb/lenet/) neural network architecture.\n",
    "\n",
    "### Input\n",
    "The LeNet architecture accepts a 32x32xC image as input, where C is the number of color channels. Since MNIST images are grayscale, C is 1 in this case.\n",
    "\n",
    "### Architecture\n",
    "**Layer 1: Convolutional.** The output shape should be 28x28x6.\n",
    "\n",
    "**Activation.** Your choice of activation function.\n",
    "\n",
    "**Pooling.** The output shape should be 14x14x6.\n",
    "\n",
    "**Layer 2: Convolutional.** The output shape should be 10x10x16.\n",
    "\n",
    "**Activation.** Your choice of activation function.\n",
    "\n",
    "**Pooling.** The output shape should be 5x5x16.\n",
    "\n",
    "**Flatten.** Flatten the output shape of the final pooling layer such that it's 1D instead of 3D.\n",
    "\n",
    "**Layer 3: Fully Connected.** This should have 120 outputs.\n",
    "\n",
    "**Activation.** Your choice of activation function.\n",
    "\n",
    "**Layer 4: Fully Connected.** This should have 84 outputs.\n",
    "\n",
    "**Activation.** Your choice of activation function.\n",
    "\n",
    "**Layer 5: Fully Connected (Logits).** This should have 10 outputs.\n",
    "\n",
    "### Output\n",
    "Return the result of the 2nd fully connected layer."
   ]
  },
  {
   "cell_type": "code",
   "execution_count": 5,
   "metadata": {},
   "outputs": [],
   "source": [
    "import tensorflow as tf\n",
    "def conv2d(x, W, bias, stride=1, padding='VALID'):\n",
    "    y = tf.nn.conv2d(x, W, strides = [1, stride, stride, 1], padding=padding)\n",
    "    y = tf.nn.bias_add(y, bias)\n",
    "    y = tf.nn.relu(y)\n",
    "    return y\n",
    "\n",
    "def maxpool2d(x, k=2):\n",
    "    return tf.nn.max_pool(x, ksize=[1, k, k, 1], strides=[1, k, k, 1], padding='SAME')\n",
    "\n",
    "def LeNet(x):    \n",
    "    # Arguments used for tf.truncated_normal, randomly defines variables for the weights and biases for each layer\n",
    "    mu = 0\n",
    "    sigma = 0.1\n",
    "    \n",
    "    # TODO: Layer 1: Convolutional. Input = 32x32x1. Output = 28x28x6.\n",
    "    # TODO: Activation.\n",
    "    w1 = tf.Variable(tf.truncated_normal([5, 5, 1, 6], mean=mu, stddev=sigma))\n",
    "    b1 = tf.Variable(tf.truncated_normal([6], mean=mu, stddev=sigma))\n",
    "    conv1 = conv2d(x, w1, b1)\n",
    "    \n",
    "    # TODO: Pooling. Input = 28x28x6. Output = 14x14x6.\n",
    "    pool1 = maxpool2d(conv1)\n",
    "        \n",
    "    # TODO: Layer 2: Convolutional. Output = 10x10x16.    \n",
    "    # TODO: Activation.\n",
    "    w2 = tf.Variable(tf.truncated_normal([5, 5, 6, 16], mean=mu, stddev=sigma))\n",
    "    b2 = tf.Variable(tf.truncated_normal([16], mean=mu, stddev=sigma))\n",
    "    conv2 = conv2d(pool1, w2, b2)\n",
    "    \n",
    "    # TODO: Pooling. Input = 10x10x16. Output = 5x5x16.\n",
    "    pool2 = maxpool2d(conv2)    \n",
    "\n",
    "    # TODO: Flatten. Input = 5x5x16 = 400.\n",
    "    # TODO: Layer 3: Fully Connected. Input = 400. Output = 120.    \n",
    "    # TODO: Activation.    \n",
    "    fc1 = tf.reshape(pool2, [-1, 5*5*16])\n",
    "    wd1 = tf.Variable(tf.truncated_normal([5*5*16, 120]))\n",
    "    bd1 = tf.Variable(tf.truncated_normal([120]))\n",
    "    fc1 = tf.add(tf.matmul(fc1, wd1), bd1)\n",
    "    fc1 = tf.nn.relu(fc1)\n",
    "            \n",
    "    # TODO: Layer 4: Fully Connected. Input = 120. Output = 84.    \n",
    "    # TODO: Activation.\n",
    "    wd2 = tf.Variable(tf.truncated_normal([120, 84]))\n",
    "    bd2 = tf.Variable(tf.truncated_normal([84]))\n",
    "    fc2 = tf.add(tf.matmul(fc1, wd2), bd2)\n",
    "    fc2 = tf.nn.relu(fc2)\n",
    "    \n",
    "    # TODO: Layer 5: Fully Connected. Input = 84. Output = 10.\n",
    "    wd3 = tf.Variable(tf.truncated_normal([84, 10]))\n",
    "    bd3 = tf.Variable(tf.truncated_normal([10]))\n",
    "    logits = tf.add(tf.matmul(fc2, wd3), bd3)\n",
    "    return logits"
   ]
  },
  {
   "cell_type": "markdown",
   "metadata": {},
   "source": [
    "## Training Pipeline\n",
    "Create a training pipeline that uses the model to classify MNIST data.\n",
    "- Train LeNet to classify [MNIST](http://yann.lecun.com/exdb/mnist/) data.\n",
    "- `x` is a placeholder for a batch of input images.\n",
    "- `y` is a placeholder for a batch of output labels."
   ]
  },
  {
   "cell_type": "code",
   "execution_count": 6,
   "metadata": {},
   "outputs": [],
   "source": [
    "x = tf.placeholder(tf.float32, (None, 32, 32, 1))\n",
    "y = tf.placeholder(tf.int32, (None))\n",
    "one_hot_y = tf.one_hot(y, 10)\n",
    "\n",
    "rate = 0.0001\n",
    "logits = LeNet(x)\n",
    "loss = tf.reduce_mean(tf.nn.softmax_cross_entropy_with_logits(logits=logits, labels=one_hot_y))\n",
    "training = tf.train.AdamOptimizer(learning_rate = rate).minimize(loss)\n",
    "\n",
    "correct_pred = tf.equal(tf.argmax(logits, 1), tf.argmax(one_hot_y, 1))\n",
    "accuracy = tf.reduce_mean(tf.cast(correct_pred, tf.float32))\n",
    "saver = tf.train.Saver()"
   ]
  },
  {
   "cell_type": "markdown",
   "metadata": {},
   "source": [
    "## Train the Model\n",
    "Run the training data through the training pipeline to train the model.\n",
    "Before each epoch, shuffle the training set.\n",
    "After each epoch, measure the loss and accuracy of the validation set."
   ]
  },
  {
   "cell_type": "code",
   "execution_count": 7,
   "metadata": {},
   "outputs": [
    {
     "name": "stdout",
     "output_type": "stream",
     "text": [
      "Training...\n",
      "EPOCH 1 ...\n",
      "Validation Accuracy = 0.800\n",
      "\n",
      "EPOCH 2 ...\n",
      "Validation Accuracy = 0.871\n",
      "\n",
      "EPOCH 3 ...\n",
      "Validation Accuracy = 0.912\n",
      "\n",
      "EPOCH 4 ...\n",
      "Validation Accuracy = 0.918\n",
      "\n",
      "EPOCH 5 ...\n",
      "Validation Accuracy = 0.932\n",
      "\n",
      "EPOCH 6 ...\n",
      "Validation Accuracy = 0.952\n",
      "\n",
      "EPOCH 7 ...\n",
      "Validation Accuracy = 0.949\n",
      "\n",
      "EPOCH 8 ...\n",
      "Validation Accuracy = 0.956\n",
      "\n",
      "EPOCH 9 ...\n",
      "Validation Accuracy = 0.957\n",
      "\n",
      "EPOCH 10 ...\n",
      "Validation Accuracy = 0.962\n",
      "\n",
      "EPOCH 11 ...\n",
      "Validation Accuracy = 0.966\n",
      "\n",
      "EPOCH 12 ...\n",
      "Validation Accuracy = 0.964\n",
      "\n",
      "EPOCH 13 ...\n",
      "Validation Accuracy = 0.965\n",
      "\n",
      "EPOCH 14 ...\n",
      "Validation Accuracy = 0.972\n",
      "\n",
      "EPOCH 15 ...\n",
      "Validation Accuracy = 0.963\n",
      "\n",
      "EPOCH 16 ...\n",
      "Validation Accuracy = 0.976\n",
      "\n",
      "EPOCH 17 ...\n",
      "Validation Accuracy = 0.978\n",
      "\n",
      "EPOCH 18 ...\n",
      "Validation Accuracy = 0.972\n",
      "\n",
      "EPOCH 19 ...\n",
      "Validation Accuracy = 0.969\n",
      "\n",
      "EPOCH 20 ...\n",
      "Validation Accuracy = 0.978\n",
      "\n",
      "Model saved\n"
     ]
    }
   ],
   "source": [
    "EPOCHS = 20\n",
    "BATCH_SIZE = 128\n",
    "\n",
    "with tf.Session() as sess:\n",
    "    sess.run(tf.global_variables_initializer())\n",
    "    print(\"Training...\")\n",
    "    for i in range(EPOCHS):\n",
    "        X_train, y_train = shuffle(X_train, y_train)        \n",
    "        for k in range(0, len(X_train), BATCH_SIZE):\n",
    "            batch_x, batch_y = X_train[k:k+BATCH_SIZE], y_train[k:k+BATCH_SIZE]\n",
    "            sess.run(training, feed_dict={x: batch_x, y: batch_y})\n",
    "            \n",
    "        validation_accuracy = sess.run(accuracy, feed_dict={x: X_validation, y: y_validation})        \n",
    "        print(\"EPOCH {} ...\".format(i+1))\n",
    "        print(\"Validation Accuracy = {:.3f}\".format(validation_accuracy))\n",
    "        print()\n",
    "        \n",
    "    saver.save(sess, './lenet')\n",
    "    print(\"Model saved\")"
   ]
  },
  {
   "cell_type": "markdown",
   "metadata": {},
   "source": [
    "## Evaluate the Model\n",
    "Once you are completely satisfied with your model, evaluate the performance of the model on the test set.\n",
    "\n",
    "Be sure to only do this once!\n",
    "\n",
    "If you were to measure the performance of your trained model on the test set, then improve your model, and then measure the performance of your model on the test set again, that would invalidate your test results. You wouldn't get a true measure of how well your model would perform against real data."
   ]
  },
  {
   "cell_type": "code",
   "execution_count": 8,
   "metadata": {},
   "outputs": [
    {
     "name": "stdout",
     "output_type": "stream",
     "text": [
      "INFO:tensorflow:Restoring parameters from ./lenet\n",
      "Test Accuracy = 0.978\n"
     ]
    }
   ],
   "source": [
    "with tf.Session() as sess:\n",
    "    saver.restore(sess, tf.train.latest_checkpoint('.'))\n",
    "    test_accuracy = sess.run(accuracy, feed_dict={x: X_test, y: y_test})        \n",
    "    print(\"Test Accuracy = {:.3f}\".format(test_accuracy))"
   ]
  }
 ],
 "metadata": {
  "anaconda-cloud": {},
  "kernelspec": {
   "display_name": "Python [default]",
   "language": "python",
   "name": "python3"
  },
  "language_info": {
   "codemirror_mode": {
    "name": "ipython",
    "version": 3
   },
   "file_extension": ".py",
   "mimetype": "text/x-python",
   "name": "python",
   "nbconvert_exporter": "python",
   "pygments_lexer": "ipython3",
   "version": "3.5.5"
  },
  "widgets": {
   "state": {},
   "version": "1.1.2"
  }
 },
 "nbformat": 4,
 "nbformat_minor": 1
}
