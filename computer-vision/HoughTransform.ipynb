{
 "cells": [
  {
   "cell_type": "markdown",
   "metadata": {},
   "source": [
    "# Find Lines from Canny Edges\n",
    "#\n",
    "\n",
    "- [Lecture](https://youtu.be/JFwj5UtKmPY)\n",
    "\n",
    "### In image space, a line is plotted as x vs. y, but Paul Hough devised a method for representing lines in parameter space, which we will call “Hough space” in his honor.\n",
    "\n",
    "### In Hough space, I can represent my \"x vs. y\" line as a point in \"m vs. b\" instead. The Hough Transform is just the conversion from image space to Hough space. So, the characterization of a line in image space will be a single point at the position (m, b) in Hough space.\n",
    "\n",
    "\n"
   ]
  },
  {
   "cell_type": "markdown",
   "metadata": {
    "tags": []
   },
   "source": [
    " ### if a line in image space corresponds to a point in Hough space, what would two parallel lines in image space correspond to in Hough space?\n",
    "\n",
    "![](image-space-1.png)"
   ]
  },
  {
   "cell_type": "markdown",
   "metadata": {},
   "source": [
    "### Alright, so a line in image space corresponds to a point in Hough space. \n",
    "## What does a point in image space correspond to in Hough space?\n",
    "\n",
    "## A single point in image space has many possible lines that pass through it, but not just any lines, \n",
    "## only those with particular combinations of the m and b parameters. Rearranging the equation of a line, \n",
    "## we find that a single point (x,y) corresponds to the line b = y - xm.\n",
    "\n",
    "## So what is the representation of a point in image space in Hough space?\n",
    "\n",
    "![](image-space-2.png)"
   ]
  },
  {
   "cell_type": "markdown",
   "metadata": {},
   "source": [
    "## Alright, now we have two intersecting lines in Hough Space. How would you represent their intersection at the point (m0, b0) in image space?\n",
    "\n",
    "![](mb-space-3.png)"
   ]
  },
  {
   "cell_type": "markdown",
   "metadata": {},
   "source": [
    "# Sin Hough \n",
    "[Hough space in polar coords](https://youtu.be/XQf7FOhwOVk)\n",
    "\n",
    "\n",
    "## What happens if we run a Hough Transform on an image of a square?\n",
    "\n",
    "[What will the corresponding plot in Hough space look like?](https://youtu.be/upKjISd3aBk)"
   ]
  }
 ],
 "metadata": {
  "language_info": {
   "codemirror_mode": {
    "name": "ipython",
    "version": 3
   },
   "file_extension": ".py",
   "mimetype": "text/x-python",
   "name": "python",
   "nbconvert_exporter": "python",
   "pygments_lexer": "ipython3",
   "version": "3.7.6-final"
  },
  "orig_nbformat": 2,
  "kernelspec": {
   "name": "python3",
   "display_name": "Python 3"
  }
 },
 "nbformat": 4,
 "nbformat_minor": 2
}