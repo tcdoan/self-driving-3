{
 "cells": [
  {
   "cell_type": "markdown",
   "metadata": {},
   "source": [
    "# Color and Gradient\n",
    "\n",
    "- Combine what you know about color and gradient thresholding to get the best of both worlds.\n",
    "- Here's an example of how that might look:\n",
    "\n",
    "!['Combined color and gradient thresholds for lane detection.'](color-and-gradient.png)\n",
    "\n",
    "\n",
    "At this point, it's okay to detect edges around trees or cars.\n",
    "- these lines can be mostly filtered out by applying a mask to the image and essentially cropping out the area outside of the lane lines. \n",
    "- It's most important that you reliably detect different colors of lane lines under varying degrees of daylight and shadow.\n",
    "\n",
    "we can clearly see which parts of the lane lines were detected by the gradient threshold \n",
    "- and which parts were detected by the color threshold by stacking the channels and seeing the individual components. \n",
    "\n",
    "Create a binary combination of these two images to map out where either the color or gradient thresholds were met"
   ]
  },
  {
   "cell_type": "code",
   "execution_count": null,
   "metadata": {},
   "outputs": [],
   "source": [
    "import numpy as np\n",
    "import cv2\n",
    "import matplotlib.pyplot as plt\n",
    "import matplotlib.image as mpimg\n",
    "\n",
    "def pipeline(img, s_thresh=(170, 255), sx_thresh=(20, 100), sobel_ksize=3):\n",
    "    hls = cv2.cvtColor(img, cv2.COLOR_RGB2HLS)\n",
    "    s_channel = lhs[:,:, 2]\n",
    "    \n",
    "    # Standard grayscaling lost color information for the lane lines\n",
    "    # Explore gradients in other colors spaces / color channels to see what might work better\n",
    "    # gray = cv2.cvtColor(img, cv2.COLOR_RGB2GRAY)\n",
    "    red = img[0,:,:]\n",
    "    \n",
    "    # Take the derivative in x\n",
    "    sx = cv2.Sobel(red, cv2.CV_64F, 1, 0. ksize=sobel_ksize)\n",
    "    asx = np.absolute(sx) \n",
    "    \n",
    "                \n",
    "    \n",
    "    \n",
    "    "
   ]
  }
 ],
 "metadata": {
  "kernelspec": {
   "display_name": "Python [conda env:carnd3]",
   "language": "python",
   "name": "conda-env-carnd3-py"
  },
  "language_info": {
   "codemirror_mode": {
    "name": "ipython",
    "version": 3
   },
   "file_extension": ".py",
   "mimetype": "text/x-python",
   "name": "python",
   "nbconvert_exporter": "python",
   "pygments_lexer": "ipython3",
   "version": "3.5.4"
  }
 },
 "nbformat": 4,
 "nbformat_minor": 4
}
