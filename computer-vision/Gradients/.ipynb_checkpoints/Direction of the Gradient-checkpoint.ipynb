{
 "cells": [
  {
   "cell_type": "markdown",
   "metadata": {},
   "source": [
    "# Explore the direction, or orientation, of the gradient.\n",
    "\n",
    "\n",
    "\n",
    "The direction of the gradient is simply the inverse tangent (arctangent) of the *y* gradient divided by the *x* gradient:\n",
    "\n",
    "$ arctan(sobel_y/sobel_x) $\n",
    "\n",
    "\n",
    "Each pixel of the resulting image contains a value for the angle of the gradient away from horizontal in units of radians, covering a range of $ −π/2$ to $π/2$. An orientation of 0 implies a vertical line and orientations of $-\\pi/2$ or $\\pi/2$ imply horizontal lines. \n",
    "\n",
    "write a function to compute the direction of the gradient and apply a threshold. \n",
    "The direction of the gradient is much noisier than the gradient magnitude, but you should find that you can pick out particular features by orientation. \n",
    "\n",
    "Test that function returns output similar to the example below for `sobel_kernel=15, thresh=(0.7, 1.3)`\n"
   ]
  }
 ],
 "metadata": {
  "kernelspec": {
   "display_name": "Python [conda env:carnd3]",
   "language": "python",
   "name": "conda-env-carnd3-py"
  },
  "language_info": {
   "codemirror_mode": {
    "name": "ipython",
    "version": 3
   },
   "file_extension": ".py",
   "mimetype": "text/x-python",
   "name": "python",
   "nbconvert_exporter": "python",
   "pygments_lexer": "ipython3",
   "version": "3.5.4"
  }
 },
 "nbformat": 4,
 "nbformat_minor": 4
}
