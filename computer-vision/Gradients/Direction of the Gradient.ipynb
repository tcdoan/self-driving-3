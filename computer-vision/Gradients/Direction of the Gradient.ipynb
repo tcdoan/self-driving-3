{
 "cells": [
  {
   "cell_type": "markdown",
   "metadata": {},
   "source": [
    "# Explore the direction, or orientation, of the gradient.\n",
    "\n",
    "\n",
    "\n",
    "The direction of the gradient is simply the inverse tangent (arctangent) of the *y* gradient divided by the *x* gradient:\n",
    "\n",
    "$ arctan(sobel_y/sobel_x) $\n",
    "\n",
    "\n",
    "Each pixel of the resulting image contains a value for the angle of the gradient away from horizontal in units of radians, covering a range of $ −π/2$ to $π/2$. An orientation of 0 implies a vertical line and orientations of $-\\pi/2$ or $\\pi/2$ imply horizontal lines. \n",
    "\n",
    "write a function to compute the direction of the gradient and apply a threshold. \n",
    "The direction of the gradient is much noisier than the gradient magnitude, but you should find that you can pick out particular features by orientation. \n",
    "\n",
    "Test that function returns output similar to the example below for `sobel_kernel=15, thresh=(0.7, 1.3)`\n",
    "\n",
    "!['thresh-grad-dir-example.jpg'](thresh-grad-dir-example.jpg)"
   ]
  },
  {
   "cell_type": "code",
   "execution_count": null,
   "metadata": {},
   "outputs": [],
   "source": [
    "import numpy as np\n",
    "import cv2\n",
    "import matplotlib.pyplot as plt\n",
    "import matplotlib.image as mpimg\n",
    "import pickle\n",
    "\n",
    "image = mpimg.imread('signs_vehicles_xygrad.png')\n",
    "\n",
    "# Define a function that applies Sobel x and y, \n",
    "# then computes the direction of the gradient\n",
    "# and applies a threshold.\n",
    "def dir_threshold(img, sobel_kernel=3, thresh=(0, np.pi/2)):\n",
    "    \n",
    "    # Apply the following steps to img\n",
    "    # 1) Convert to grayscale\n",
    "    # 2) Take the gradient in x and y separately\n",
    "    # 3) Take the absolute value of the x and y gradients\n",
    "    # 4) Use np.arctan2(abs_sobely, abs_sobelx) to calculate the direction of the gradient \n",
    "    # 5) Create a binary mask where direction thresholds are met\n",
    "    # 6) Return this mask as your binary_output image\n",
    "    gray =  cv2.cvtColor(img, cv2.COLOR_RGB2RAY)\n",
    "    gradx = np.absolute(cv2.Sobel(gray, cv2.CV_64F, 1, 0, ksize=sobel_kernel))\n",
    "    grady = np.absolute(cv2.Sobel(gray, cv2.CV_64F, 0, 1, ksize=sobel_kernel))\n",
    "    grad_dir = np.arctan2(grady, gradx)\n",
    "    binary_output = np.zeros_like(img)\n",
    "    binary_output[ (grad_dir <= thresh[1]) && (grad_dir >= thresh[]) ]\n",
    "    return binary_output\n",
    "    \n",
    "# Run the function\n",
    "dir_binary = dir_threshold(image, sobel_kernel=15, thresh=(0.7, 1.3))\n",
    "\n",
    "# Plot the result\n",
    "f, (ax1, ax2) = plt.subplots(1, 2, figsize=(24, 9))\n",
    "f.tight_layout()\n",
    "ax1.imshow(image)\n",
    "ax1.set_title('Original Image', fontsize=50)\n",
    "ax2.imshow(dir_binary, cmap='gray')\n",
    "ax2.set_title('Thresholded Grad. Dir.', fontsize=50)\n",
    "plt.subplots_adjust(left=0., right=1, top=0.9, bottom=0.)\n"
   ]
  }
 ],
 "metadata": {
  "kernelspec": {
   "display_name": "Python [conda env:carnd3]",
   "language": "python",
   "name": "conda-env-carnd3-py"
  },
  "language_info": {
   "codemirror_mode": {
    "name": "ipython",
    "version": 3
   },
   "file_extension": ".py",
   "mimetype": "text/x-python",
   "name": "python",
   "nbconvert_exporter": "python",
   "pygments_lexer": "ipython3",
   "version": "3.5.4"
  }
 },
 "nbformat": 4,
 "nbformat_minor": 4
}
